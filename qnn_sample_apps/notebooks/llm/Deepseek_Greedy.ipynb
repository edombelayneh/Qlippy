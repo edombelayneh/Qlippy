{
 "cells": [
  {
   "cell_type": "code",
   "execution_count": null,
   "id": "23c152d4-00b0-4946-8202-698f8bf25322",
   "metadata": {},
   "outputs": [],
   "source": [
    "import platform\n",
    "\n",
    "arch = platform.machine()\n",
    "sys = platform.system()\n",
    "processor = platform.processor()\n",
    "print(f\"{arch}\\n{sys}\\n{processor}\")"
   ]
  },
  {
   "cell_type": "code",
   "execution_count": null,
   "id": "fb1d0e3f-d3ef-433c-a134-a9c7c3ada10d",
   "metadata": {},
   "outputs": [],
   "source": [
    "import onnxruntime as ort\n",
    "import os\n",
    "import numpy as np\n",
    "\n",
    "from pathlib import Path\n",
    "from tokenizers import Tokenizer"
   ]
  },
  {
   "cell_type": "code",
   "execution_count": null,
   "id": "1f3c2eb2-0e89-42cd-b112-7ea0b2a0faef",
   "metadata": {},
   "outputs": [],
   "source": [
    "root_dir = Path.cwd().parent.parent\n",
    "root_dir"
   ]
  },
  {
   "cell_type": "code",
   "execution_count": null,
   "id": "b90b0ac5-3a4f-46c5-b14a-f5bafed7b114",
   "metadata": {},
   "outputs": [],
   "source": [
    "onnx_root = Path(ort.__file__).parent\n",
    "onnx_root"
   ]
  },
  {
   "cell_type": "code",
   "execution_count": null,
   "id": "028612de-d6a6-4d6a-a30a-5f2f8c978548",
   "metadata": {},
   "outputs": [],
   "source": [
    "model_subdirectory = \"DeepSeek-R1-Distilled-NPU-Optimized\"\n",
    "\n",
    "# The embeddings model is entry point, use netron to visualize\n",
    "model_name = \"deepseek_r1_1_5_embeddings_quant_v2.0.onnx\"\n",
    "\n",
    "# Need this for \"context\" graph (processes first hidden states)\n",
    "context_model = \"deepseek_r1_1_5_ctx_v2.2.onnx_ctx.onnx\"\n",
    "\n",
    "# Processes second hidden states before passing to head\n",
    "context_model_iter = \"deepseek_r1_1_5_iter_v2.2.onnx_ctx.onnx\"\n",
    "\n",
    "# Initial stage just provides hidden states, need to get logits by applying model head.\n",
    "head_model = \"deepseek_r1_1_5_head_quant_v2.0.onnx\"\n",
    "\n",
    "# Genai configuration path\n",
    "configuration_json = \"genai_config.json\"\n",
    "\n",
    "# Tokenizer\n",
    "tokenizer_json = \"tokenizer.json\""
   ]
  },
  {
   "cell_type": "code",
   "execution_count": null,
   "id": "4c6a4721-e62c-48c2-962b-650738f9d568",
   "metadata": {},
   "outputs": [],
   "source": [
    "model_path = root_dir/\"models\"/model_subdirectory/model_name\n",
    "ctx_path = root_dir/\"models\"/model_subdirectory/context_model\n",
    "ctx_path_itr = root_dir/\"models\"/model_subdirectory/context_model_iter\n",
    "head_path = root_dir/\"models\"/model_subdirectory/head_model\n",
    "tokenizer_path = root_dir/\"models\"/model_subdirectory/tokenizer_json\n",
    "config_path = root_dir/\"models\"/model_subdirectory/configuration_json\n",
    "hexagon_driver = onnx_root/\"capi\"/\"QnnHtp.dll\""
   ]
  },
  {
   "cell_type": "code",
   "execution_count": null,
   "id": "f383718b-aa81-4897-9372-9c26519f353a",
   "metadata": {},
   "outputs": [],
   "source": [
    "session_options = ort.SessionOptions()\n",
    "\n",
    "session_options.add_session_config_entry(\"ep.context_enable\",\"0\")\n",
    "session_options.add_session_config_entry(\"ep.context_file_path\",str(ctx_path))\n",
    "session_options.add_session_config_entry(\"ep.context_embed_mode\",\"1\")\n",
    "session_options.add_session_config_entry(\"qnn.backend_config_path\",str(config_path))\n",
    "\n",
    "qnn_provider_options = {\n",
    "    \"backend_path\": hexagon_driver\n",
    "}\n",
    "\n",
    "embedding_session = ort.InferenceSession(model_path,\n",
    "                                providers= [(\"QNNExecutionProvider\",qnn_provider_options)],\n",
    "                               sess_options= session_options\n",
    "                              )\n",
    "\n",
    "head_session = ort.InferenceSession(head_path,\n",
    "                                providers= [(\"QNNExecutionProvider\",qnn_provider_options)],\n",
    "                               sess_options= session_options\n",
    "                              )\n",
    "\n",
    "ctx_session = ort.InferenceSession(ctx_path,\n",
    "                                    providers=[(\"QNNExecutionProvider\",qnn_provider_options)],\n",
    "                                    sess_options= session_options\n",
    "                                        )\n",
    "\n",
    "ctx_itr_session = ort.InferenceSession(ctx_path_itr,\n",
    "                                         providers=[(\"QNNExecutionProvider\",qnn_provider_options)],\n",
    "                                         sess_options= session_options\n",
    "                                      )\n",
    "embedding_session.get_providers()"
   ]
  },
  {
   "cell_type": "code",
   "execution_count": null,
   "id": "3ff6b9fe-5d0f-48fd-8e9c-25b8d8b246fc",
   "metadata": {},
   "outputs": [],
   "source": [
    "inputs = embedding_session.get_inputs()\n",
    "outputs = embedding_session.get_outputs()\n",
    "input_0 = inputs[0]\n",
    "output_0 = outputs[0]"
   ]
  },
  {
   "cell_type": "code",
   "execution_count": null,
   "id": "12ccb3e9-2ec0-42b9-8495-f295483ead0b",
   "metadata": {},
   "outputs": [],
   "source": [
    "print(f\"Expected Input Shape: {input_0.shape}\")\n",
    "print(f\"Expected Input Type: {input_0.type}\")\n",
    "print(f\"Expected Input Name: {input_0.name}\")"
   ]
  },
  {
   "cell_type": "code",
   "execution_count": null,
   "id": "b5cf9daa-63f6-41c4-9f6e-6351131aa27e",
   "metadata": {},
   "outputs": [],
   "source": [
    "print(f\"Expected Output Shape: {output_0.shape}\")\n",
    "print(f\"Expected Output Type: {output_0.type}\")\n",
    "print(f\"Expected Output Name: {output_0.name}\")"
   ]
  },
  {
   "cell_type": "code",
   "execution_count": null,
   "id": "d2eed8ad-dd0b-449c-8fbe-269ce71927d6",
   "metadata": {},
   "outputs": [],
   "source": [
    "inputs_ctx = ctx_session.get_inputs()\n",
    "outputs_ctx = ctx_session.get_outputs()\n",
    "input_0_ctx = inputs_ctx[0]\n",
    "output_0_ctx = outputs_ctx[0]"
   ]
  },
  {
   "cell_type": "code",
   "execution_count": null,
   "id": "e44648ec-b4f0-4489-9825-49158dc474d9",
   "metadata": {},
   "outputs": [],
   "source": [
    "print(f\"Expected Input Shape: {input_0_ctx.shape}\")\n",
    "print(f\"Expected Input Type: {input_0_ctx.type}\")\n",
    "print(f\"Expected Input Name: {input_0_ctx.name}\")"
   ]
  },
  {
   "cell_type": "code",
   "execution_count": null,
   "id": "79374398-0764-4833-b5e6-1a6b0d6299dd",
   "metadata": {},
   "outputs": [],
   "source": [
    "print(f\"Expected Output Shape: {output_0_ctx.shape}\")\n",
    "print(f\"Expected Output Type: {output_0_ctx.type}\")\n",
    "print(f\"Expected Output Name: {output_0_ctx.name}\")"
   ]
  },
  {
   "cell_type": "code",
   "execution_count": null,
   "id": "7dac8b94-d472-4e07-b2a2-e8355abd6211",
   "metadata": {},
   "outputs": [],
   "source": [
    "inputs_ctx_itr = ctx_itr_session.get_inputs()\n",
    "outputs_ctx_itr = ctx_itr_session.get_outputs()\n",
    "input_0_ctx_itr = inputs_ctx_itr[0]\n",
    "output_0_ctx_itr = outputs_ctx_itr[0]"
   ]
  },
  {
   "cell_type": "code",
   "execution_count": null,
   "id": "d753cb97-f95e-415b-b132-9fa3118dd22c",
   "metadata": {},
   "outputs": [],
   "source": [
    "print(f\"Expected Input Shape: {input_0_ctx_itr.shape}\")\n",
    "print(f\"Expected Input Type: {input_0_ctx_itr.type}\")\n",
    "print(f\"Expected Input Name: {input_0_ctx_itr.name}\")"
   ]
  },
  {
   "cell_type": "code",
   "execution_count": null,
   "id": "eb9327a9-4c25-41d2-a95b-4eb707d13810",
   "metadata": {},
   "outputs": [],
   "source": [
    "print(f\"Expected Output Shape: {output_0_ctx_itr.shape}\")\n",
    "print(f\"Expected Output Type: {output_0_ctx_itr.type}\")\n",
    "print(f\"Expected Output Name: {output_0_ctx_itr.name}\")"
   ]
  },
  {
   "cell_type": "code",
   "execution_count": null,
   "id": "def4ce68-d015-4d4d-9c5a-78fd5420ad59",
   "metadata": {},
   "outputs": [],
   "source": [
    "inputs_head = head_session.get_inputs()\n",
    "outputs_head = head_session.get_outputs()\n",
    "input_0_head = inputs_head[0]\n",
    "output_0_head = outputs_head[0]"
   ]
  },
  {
   "cell_type": "code",
   "execution_count": null,
   "id": "24753436-4610-4f19-9402-891c3f89e4e1",
   "metadata": {},
   "outputs": [],
   "source": [
    "print(f\"Expected Input Name: {input_0_head.name}\")\n",
    "print(f\"Expected Input Shape: {input_0_head.shape}\")\n",
    "print(f\"Expected Input Type: {input_0_head.type}\")"
   ]
  },
  {
   "cell_type": "code",
   "execution_count": null,
   "id": "fa6633be-06d6-4c1e-813b-f215088fc2ed",
   "metadata": {},
   "outputs": [],
   "source": [
    "print(f\"Expected Output Name: {output_0_head.name}\")\n",
    "print(f\"Expected Output Shape: {output_0_head.shape}\")\n",
    "print(f\"Expected Output Type: {output_0_head.type}\")"
   ]
  },
  {
   "cell_type": "code",
   "execution_count": null,
   "id": "1f79c33e-967a-4652-af39-e6afa06a0285",
   "metadata": {},
   "outputs": [],
   "source": [
    "tokenizer = Tokenizer.from_file(str(tokenizer_path))"
   ]
  },
  {
   "cell_type": "code",
   "execution_count": null,
   "id": "c5359713-ee6e-430c-9e29-a06227bff28e",
   "metadata": {},
   "outputs": [],
   "source": [
    "my_query = \"<｜User｜>\\nWhat is it like to be a dog? Please explain step by step.\\n<｜Assistant｜> <think>\\n\"\n",
    "encoding = tokenizer.encode(my_query)"
   ]
  },
  {
   "cell_type": "code",
   "execution_count": null,
   "id": "e0e20101-0a5b-490d-bb4a-a25e02617b66",
   "metadata": {},
   "outputs": [],
   "source": [
    "print(\"Token IDs:\", encoding.ids)\n",
    "print(\"Tokens:\", encoding.tokens)"
   ]
  },
  {
   "cell_type": "code",
   "execution_count": null,
   "id": "4ad39ea5-7780-428b-b29c-8b1cceeb5138",
   "metadata": {},
   "outputs": [],
   "source": [
    "input_ids = encoding.ids\n",
    "input_ids"
   ]
  },
  {
   "cell_type": "code",
   "execution_count": null,
   "id": "62763efe-8314-456a-9ab5-428d33c2a1e1",
   "metadata": {},
   "outputs": [],
   "source": [
    "# pad_token_id = tokenizer.token_to_id(\"<|pad|>\") or 0\n",
    "# pad_token_id"
   ]
  },
  {
   "cell_type": "code",
   "execution_count": null,
   "id": "3d1b5ac0-fd4e-4dae-a8ab-a1b7acb54410",
   "metadata": {
    "scrolled": true
   },
   "outputs": [],
   "source": [
    "# pad the inputs to expected size of seq_len of 64\n",
    "# target_seq_len = 64\n",
    "# input_ids += [pad_token_id] * (target_seq_len - len(input_ids))\n",
    "input_ids = np.array([input_ids], dtype=np.int64)\n",
    "input_ids.shape"
   ]
  },
  {
   "cell_type": "code",
   "execution_count": null,
   "id": "8e4dd5e7-9e36-481f-8a6f-332aae0c1721",
   "metadata": {},
   "outputs": [],
   "source": [
    "# Run embedding session first\n",
    "embedding_output = embedding_session.run(None, {\"input_ids\":input_ids})[0]\n",
    "embedding_output.shape"
   ]
  },
  {
   "cell_type": "code",
   "execution_count": null,
   "id": "96757987-997b-4842-8a81-5325734ccf83",
   "metadata": {},
   "outputs": [],
   "source": [
    "embedding_output"
   ]
  },
  {
   "cell_type": "code",
   "execution_count": null,
   "id": "355a6da0-a753-4f53-ae38-0775a3d27ea2",
   "metadata": {},
   "outputs": [],
   "source": [
    "# Preparing inputs for prompt\n",
    "batch_size = 1\n",
    "seq_len = embedding_output.shape[1]\n",
    "hidden_size = embedding_output.shape[2]\n",
    "num_heads = 2\n",
    "attn_head_size = 128 #hidden_size // num_heads\n",
    "num_layers = 28\n",
    "max_seq_len = 64"
   ]
  },
  {
   "cell_type": "code",
   "execution_count": null,
   "id": "327bac53-4fae-4e1e-bed9-402c5b3e05bd",
   "metadata": {},
   "outputs": [],
   "source": [
    "attn_head_size"
   ]
  },
  {
   "cell_type": "code",
   "execution_count": null,
   "id": "7beeb1a5-a506-4504-90b3-8260e82f9155",
   "metadata": {},
   "outputs": [],
   "source": [
    "hidden_size"
   ]
  },
  {
   "cell_type": "code",
   "execution_count": null,
   "id": "df715698-9d3e-43e7-be8a-b5414c35ba64",
   "metadata": {},
   "outputs": [],
   "source": [
    "empty_kv = {}\n",
    "for i in range(num_layers):\n",
    "    past_shape = (batch_size, num_heads, max_seq_len, attn_head_size)\n",
    "    empty_kv[f\"past_keys_{i}\"] = np.zeros(past_shape, dtype=np.float32)\n",
    "    empty_kv[f\"past_values_{i}\"] = np.zeros(past_shape, dtype=np.float32)\n",
    "\n",
    "len(empty_kv)"
   ]
  },
  {
   "cell_type": "code",
   "execution_count": null,
   "id": "3a1a2af6-e1cb-496b-939d-36f0970c0fb1",
   "metadata": {},
   "outputs": [],
   "source": [
    "empty_kv.keys()"
   ]
  },
  {
   "cell_type": "code",
   "execution_count": null,
   "id": "8ff8b968-9538-461d-942f-0c07d49fa589",
   "metadata": {
    "scrolled": true
   },
   "outputs": [],
   "source": [
    "empty_kv.values()"
   ]
  },
  {
   "cell_type": "code",
   "execution_count": null,
   "id": "f819a064-2d41-4f1d-b67c-6d596e2bdd1d",
   "metadata": {},
   "outputs": [],
   "source": [
    "embedding_output.shape"
   ]
  },
  {
   "cell_type": "code",
   "execution_count": null,
   "id": "e35fe260-822d-441f-a6d6-f30f49fefe4a",
   "metadata": {},
   "outputs": [],
   "source": [
    "# subtract 1 off shape to account for indexing from 0-15\n",
    "init_sequence_length = np.array(embedding_output.shape[1]-1, dtype=np.int32).reshape(1,1)\n",
    "max_seq_length = np.array([max_seq_len], dtype=np.int32)"
   ]
  },
  {
   "cell_type": "code",
   "execution_count": null,
   "id": "7c3ed1e2-1c17-4306-bc76-c59f3720e914",
   "metadata": {},
   "outputs": [],
   "source": [
    "init_sequence_length = np.array(5, dtype=np.int32).reshape(1,1)\n",
    "\n",
    "seq_lens = {\n",
    "    \"past_seq_len\": init_sequence_length,\n",
    "    \"total_seq_len\": max_seq_length #seq_len\n",
    "}\n",
    "seq_lens"
   ]
  },
  {
   "cell_type": "code",
   "execution_count": null,
   "id": "448a7f69-e5c5-4cc3-8562-9166bd7811a7",
   "metadata": {},
   "outputs": [],
   "source": [
    "embedding_output.shape"
   ]
  },
  {
   "cell_type": "code",
   "execution_count": null,
   "id": "72859658-e57f-4108-80b2-e127094f6f0f",
   "metadata": {},
   "outputs": [],
   "source": [
    "# pad the inputs to expected size of seq_len of 64\n",
    "batch_size, seq_len, embed_dim = embedding_output.shape\n",
    "target_seq_len = 64\n",
    "\n",
    "padded_embedding = np.zeros((batch_size, target_seq_len, embed_dim), dtype=embedding_output.dtype)\n",
    "\n",
    "padded_embedding[:, :seq_len, :] = embedding_output\n",
    "padded_embedding.shape"
   ]
  },
  {
   "cell_type": "code",
   "execution_count": null,
   "id": "958f0335-e7ac-480f-bb04-a8ec855d0fd0",
   "metadata": {},
   "outputs": [],
   "source": [
    "# Check to ensure null vectors were added\n",
    "padded_embedding[0,:18,:]"
   ]
  },
  {
   "cell_type": "code",
   "execution_count": null,
   "id": "f1bd9908-20f5-4e5e-a18e-8c9a0e4f0341",
   "metadata": {
    "scrolled": true
   },
   "outputs": [],
   "source": [
    "init_prompt_inputs = {\n",
    "    \"input_hidden_states\": padded_embedding, #embedding_output,\n",
    "    **empty_kv,\n",
    "    **seq_lens\n",
    "}\n",
    "init_prompt_inputs"
   ]
  },
  {
   "cell_type": "code",
   "execution_count": null,
   "id": "89d21d8b-8970-41e4-8857-24955c842492",
   "metadata": {},
   "outputs": [],
   "source": [
    "init_prompt_inputs.keys()"
   ]
  },
  {
   "cell_type": "code",
   "execution_count": null,
   "id": "c0c68608-3661-4054-b48c-9a849c3b269d",
   "metadata": {},
   "outputs": [],
   "source": [
    "prompt_outputs = ctx_session.run(None, init_prompt_inputs)\n",
    "len(prompt_outputs)"
   ]
  },
  {
   "cell_type": "code",
   "execution_count": null,
   "id": "1988ee3b-346d-4970-9168-e3dda4a65c5f",
   "metadata": {},
   "outputs": [],
   "source": [
    "prompt_outputs[0].shape"
   ]
  },
  {
   "cell_type": "code",
   "execution_count": null,
   "id": "52344805-b174-47bb-a53a-3930dbef5660",
   "metadata": {},
   "outputs": [],
   "source": [
    "# Extract final hidden states and present_keys/values\n",
    "print(\"Batch, prompt length (up to max 64 tokens), embedding size\")\n",
    "output_hidden_states = prompt_outputs[0]\n",
    "output_hidden_states.shape"
   ]
  },
  {
   "cell_type": "code",
   "execution_count": null,
   "id": "583a12c3-d415-40b0-bc98-a26a078ebad7",
   "metadata": {},
   "outputs": [],
   "source": [
    "print(\"Batch, key/value heads, prompt length (up to max 64 tokens), head dimension (size of projection for each head)\")\n",
    "print(\"Note: Total embedding size is 1536, this is split amongst 12 attention heads\")\n",
    "prompt_outputs[1].shape"
   ]
  },
  {
   "cell_type": "code",
   "execution_count": null,
   "id": "e6475605-dfdc-478d-b7ce-012888b57e0d",
   "metadata": {},
   "outputs": [],
   "source": [
    "prompt_outputs[1][0].shape"
   ]
  },
  {
   "cell_type": "code",
   "execution_count": null,
   "id": "6078d99b-1116-491e-8a00-f58c0b72647a",
   "metadata": {},
   "outputs": [],
   "source": [
    "print(\"Prompt Length x Head Dimension (Embedding Window)\")\n",
    "prompt_outputs[1][0][0].shape"
   ]
  },
  {
   "cell_type": "code",
   "execution_count": null,
   "id": "d2d29e14-36b5-4eaf-91f3-b3f3c71229f6",
   "metadata": {
    "scrolled": true
   },
   "outputs": [],
   "source": [
    "# Populate initial past key/values\n",
    "# Must start with index==1 because index==0 is output_hidden_states (see genai_config.json)\n",
    "present_kv = {f\"past_keys_{i}\": prompt_outputs[1 + i * 2] for i in range(num_layers)}\n",
    "present_kv.update({f\"past_values_{i}\": prompt_outputs[1 + i * 2 + 1] for i in range(num_layers)})\n",
    "present_kv"
   ]
  },
  {
   "cell_type": "code",
   "execution_count": null,
   "id": "50a8be8c-4027-4715-97ec-7b2d6839b6ed",
   "metadata": {},
   "outputs": [],
   "source": [
    "present_kv.keys()"
   ]
  },
  {
   "cell_type": "code",
   "execution_count": null,
   "id": "b226261b-3531-4415-bf83-63eb600c1f31",
   "metadata": {},
   "outputs": [],
   "source": [
    "# Dimension checks\n",
    "present_kv[\"past_keys_0\"].shape"
   ]
  },
  {
   "cell_type": "code",
   "execution_count": null,
   "id": "eaeba788-8418-480c-92d6-5fbac2f53d3e",
   "metadata": {},
   "outputs": [],
   "source": [
    "present_kv[\"past_keys_27\"].shape"
   ]
  },
  {
   "cell_type": "code",
   "execution_count": null,
   "id": "2e23656c-777d-4faa-8278-5de48b300b6c",
   "metadata": {},
   "outputs": [],
   "source": [
    "output_hidden_states.shape"
   ]
  },
  {
   "cell_type": "code",
   "execution_count": null,
   "id": "27d8109f-2f20-40b8-b213-a2ad260e399d",
   "metadata": {},
   "outputs": [],
   "source": [
    "logits = head_session.run(None, {\"output_hidden_states\": output_hidden_states})[0]\n",
    "logits"
   ]
  },
  {
   "cell_type": "code",
   "execution_count": null,
   "id": "6239b2a9-d21b-4c05-aa6e-bb153544e602",
   "metadata": {},
   "outputs": [],
   "source": [
    "logits.shape"
   ]
  },
  {
   "cell_type": "code",
   "execution_count": null,
   "id": "1e9020c8-3a7d-4165-8c75-5807bdb735a4",
   "metadata": {},
   "outputs": [],
   "source": [
    "logits[0,-1].shape"
   ]
  },
  {
   "cell_type": "code",
   "execution_count": null,
   "id": "e490256c-2ff3-4f06-b81d-b3952e8ef041",
   "metadata": {},
   "outputs": [],
   "source": [
    "# Greedy Inference\n",
    "# Grabs last tokens logits\n",
    "next_token_id = int(np.argmax(logits[0, -1]))\n",
    "next_token_id"
   ]
  },
  {
   "cell_type": "code",
   "execution_count": null,
   "id": "47afc517-ada4-4c86-bd21-5ed4cc075c55",
   "metadata": {},
   "outputs": [],
   "source": [
    "tokenizer.decode([next_token_id])"
   ]
  },
  {
   "cell_type": "code",
   "execution_count": null,
   "id": "6ecb5ba3-fae2-4dc8-8fc1-75ed6a96e604",
   "metadata": {
    "scrolled": true
   },
   "outputs": [],
   "source": [
    "max_tokens = 50\n",
    "\n",
    "generated_ids = [next_token_id]\n",
    "prev_seq_len = 64\n",
    "\n",
    "for _ in range(max_tokens):\n",
    "    input_ids = np.array([[next_token_id]], dtype=np.int64)\n",
    "    # print(tokenizer.decode(generated_ids, skip_special_tokens=True))\n",
    "    # print(tokenizer.decode([next_token_id], skip_special_tokens=True))\n",
    "    embedding_output = embedding_session.run(None, {\"input_ids\": input_ids})[0]\n",
    "\n",
    "    # print(embedding_output.shape)\n",
    "\n",
    "    lengths = {\n",
    "    \"past_seq_len\": np.array([[prev_seq_len]], dtype=np.int32),\n",
    "    \"total_seq_len\": np.array([prev_seq_len + 1], dtype=np.int32)\n",
    "    }\n",
    "\n",
    "    iter_inputs = {\n",
    "    **present_kv,\n",
    "    \"input_hidden_states\": embedding_output,\n",
    "    **lengths,\n",
    "    }\n",
    "\n",
    "    iter_outputs = ctx_itr_session.run(None, iter_inputs)\n",
    "\n",
    "    # Hidden states are stored in last index of iter outputs\n",
    "    output_hidden_states = iter_outputs[-1]\n",
    "    \n",
    "    # For output tensor update key/value layers start at index = 0 \n",
    "    present_kv = {f\"past_keys_{i}\": iter_outputs[i * 2] for i in range(num_layers)}\n",
    "    present_kv.update({f\"past_values_{i}\":iter_outputs[i * 2 + 1] for i in range(num_layers)})\n",
    "    logits = head_session.run(None, {\"output_hidden_states\": output_hidden_states})[0]\n",
    "\n",
    "    next_token_id = int(np.argmax(logits[0, -1]))\n",
    "    generated_ids.append(next_token_id)\n",
    "\n",
    "    prev_seq_len += 1\n",
    "\n",
    "    if next_token_id == tokenizer.token_to_id(\"< | end_of_sentence | >\"):\n",
    "        break\n",
    "\n",
    "output_text = tokenizer.decode(generated_ids, skip_special_tokens=True)\n",
    "print(\"\")\n",
    "print(\"*\"*100)\n",
    "print(\"\\nInitial Query:\\n\", my_query)\n",
    "print(\"Generated:\", output_text)"
   ]
  },
  {
   "cell_type": "code",
   "execution_count": null,
   "id": "9b24ffa2-6012-430a-85f3-3789f8b8785a",
   "metadata": {},
   "outputs": [],
   "source": []
  }
 ],
 "metadata": {
  "kernelspec": {
   "display_name": "Python (env_arm64)",
   "language": "python",
   "name": "env_arm64"
  },
  "language_info": {
   "codemirror_mode": {
    "name": "ipython",
    "version": 3
   },
   "file_extension": ".py",
   "mimetype": "text/x-python",
   "name": "python",
   "nbconvert_exporter": "python",
   "pygments_lexer": "ipython3",
   "version": "3.11.0"
  }
 },
 "nbformat": 4,
 "nbformat_minor": 5
}
